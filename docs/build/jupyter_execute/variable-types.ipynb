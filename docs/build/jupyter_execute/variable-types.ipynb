{
 "cells": [
  {
   "cell_type": "code",
   "execution_count": 1,
   "id": "281b7189",
   "metadata": {
    "execution": {
     "iopub.execute_input": "2022-10-14T22:03:48.564779Z",
     "iopub.status.busy": "2022-10-14T22:03:48.564440Z",
     "iopub.status.idle": "2022-10-14T22:03:49.141052Z",
     "shell.execute_reply": "2022-10-14T22:03:49.139714Z"
    }
   },
   "outputs": [
    {
     "name": "stdout",
     "output_type": "stream",
     "text": [
      "Hello, world!\n"
     ]
    }
   ],
   "source": [
    "#include <stdio.h>\n",
    "\n",
    "int main(int argc, char **argv) {\n",
    "    printf(\"Hello, world!\\n\");\n",
    "    return 0;\n",
    "}"
   ]
  }
 ],
 "metadata": {
  "kernelspec": {
   "display_name": "C",
   "language": "c",
   "name": "c"
  },
  "language_info": {
   "file_extension": ".c",
   "mimetype": "text/x-csrc",
   "name": "text/x-csrc"
  }
 },
 "nbformat": 4,
 "nbformat_minor": 5
}